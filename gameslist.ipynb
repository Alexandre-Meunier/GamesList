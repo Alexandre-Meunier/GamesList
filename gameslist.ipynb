{
 "cells": [
  {
   "cell_type": "markdown",
   "id": "c3bdc978",
   "metadata": {},
   "source": [
    "Notes :\n",
    "\n",
    "Un programme qui permet de mettre tous ses jeux en une liste\n",
    "\n",
    "Programme qui ajoute un jeu a une liste :\n",
    "\n",
    "/ajout help\n",
    "{add, del, print} {C, D, E} {jeu.toString}\n",
    "\n",
    "/ajout C Rocket_league 28Go Epic_games\n",
    "\n",
    "une fois que le programme est fait,\n",
    "interface graphique IHM qui peut être utile pour tlm\n"
   ]
  },
  {
   "cell_type": "code",
   "execution_count": 5,
   "id": "647c6df6",
   "metadata": {},
   "outputs": [],
   "source": [
    "BDD={\n",
    "    \"SSD\": #dico SSD\n",
    "        {\n",
    "        \"Steam\"   : [{\n",
    "            \"nom\"    : \"Ratchet\",\n",
    "            \"année\"  : 2022,\n",
    "            \"taille\" : 80\n",
    "            },\n",
    "            {\n",
    "            \"nom\"    : \"MWII\",\n",
    "            \"année\"  : 2020,\n",
    "            \"taille\" : 90        \n",
    "        }],\n",
    "        \"EpicGames\"   : [\n",
    "            {\n",
    "            \"nom\"    : \"RL\",\n",
    "            \"année\"  : 2015,\n",
    "            \"taille\" : 28        \n",
    "        }]\n",
    "    } #fin dico SSD\n",
    "} "
   ]
  },
  {
   "cell_type": "code",
   "execution_count": 13,
   "id": "9d4e0720",
   "metadata": {},
   "outputs": [],
   "source": [
    "def printGamesList(BDD):\n",
    "    res=''\n",
    "    for cle in BDD:\n",
    "        res+=BDD[cle]\n",
    "        \n",
    "        for cle2 in Steam:\n",
    "            res+=BDD[cle2]\n",
    "    return res"
   ]
  },
  {
   "cell_type": "code",
   "execution_count": 15,
   "id": "6b7daef3",
   "metadata": {},
   "outputs": [
    {
     "name": "stdout",
     "output_type": "stream",
     "text": [
      "{'SSD': {'Steam': [{'nom': 'Ratchet', 'année': 2022, 'taille': 80}, {'nom': 'MWII', 'année': 2020, 'taille': 90}], 'EpicGames': [{'nom': 'MWII', 'année': 2020, 'taille': 90}]}}\n",
      "[{'nom': 'Ratchet', 'année': 2022, 'taille': 80}, {'nom': 'MWII', 'année': 2020, 'taille': 90}]\n"
     ]
    },
    {
     "ename": "TypeError",
     "evalue": "can only concatenate str (not \"dict\") to str",
     "output_type": "error",
     "traceback": [
      "\u001b[1;31m---------------------------------------------------------------------------\u001b[0m",
      "\u001b[1;31mTypeError\u001b[0m                                 Traceback (most recent call last)",
      "Cell \u001b[1;32mIn[15], line 3\u001b[0m\n\u001b[0;32m      1\u001b[0m \u001b[38;5;28mprint\u001b[39m(BDD)\n\u001b[0;32m      2\u001b[0m \u001b[38;5;28mprint\u001b[39m(BDD[\u001b[38;5;124m'\u001b[39m\u001b[38;5;124mSSD\u001b[39m\u001b[38;5;124m'\u001b[39m][\u001b[38;5;124m'\u001b[39m\u001b[38;5;124mSteam\u001b[39m\u001b[38;5;124m'\u001b[39m])\n\u001b[1;32m----> 3\u001b[0m \u001b[38;5;28mprint\u001b[39m(\u001b[43mprintGamesList\u001b[49m\u001b[43m(\u001b[49m\u001b[43mBDD\u001b[49m\u001b[43m)\u001b[49m)\n",
      "Cell \u001b[1;32mIn[13], line 4\u001b[0m, in \u001b[0;36mprintGamesList\u001b[1;34m(BDD)\u001b[0m\n\u001b[0;32m      2\u001b[0m res\u001b[38;5;241m=\u001b[39m\u001b[38;5;124m'\u001b[39m\u001b[38;5;124m'\u001b[39m\n\u001b[0;32m      3\u001b[0m \u001b[38;5;28;01mfor\u001b[39;00m cle \u001b[38;5;129;01min\u001b[39;00m BDD:\n\u001b[1;32m----> 4\u001b[0m     \u001b[43mres\u001b[49m\u001b[38;5;241;43m+\u001b[39;49m\u001b[38;5;241;43m=\u001b[39;49m\u001b[43mBDD\u001b[49m\u001b[43m[\u001b[49m\u001b[43mcle\u001b[49m\u001b[43m]\u001b[49m\n\u001b[0;32m      6\u001b[0m     \u001b[38;5;28;01mfor\u001b[39;00m cle2 \u001b[38;5;129;01min\u001b[39;00m Steam:\n\u001b[0;32m      7\u001b[0m         res\u001b[38;5;241m+\u001b[39m\u001b[38;5;241m=\u001b[39mBDD[cle2]\n",
      "\u001b[1;31mTypeError\u001b[0m: can only concatenate str (not \"dict\") to str"
     ]
    }
   ],
   "source": [
    "print(BDD)\n",
    "print(BDD['SSD']['Steam'])\n",
    "print(printGamesList(BDD))"
   ]
  },
  {
   "cell_type": "code",
   "execution_count": null,
   "id": "2c1f0188",
   "metadata": {},
   "outputs": [],
   "source": []
  },
  {
   "cell_type": "code",
   "execution_count": null,
   "id": "f3600eba",
   "metadata": {},
   "outputs": [],
   "source": []
  }
 ],
 "metadata": {
  "kernelspec": {
   "display_name": "Python 3 (ipykernel)",
   "language": "python",
   "name": "python3"
  },
  "language_info": {
   "codemirror_mode": {
    "name": "ipython",
    "version": 3
   },
   "file_extension": ".py",
   "mimetype": "text/x-python",
   "name": "python",
   "nbconvert_exporter": "python",
   "pygments_lexer": "ipython3",
   "version": "3.11.3"
  }
 },
 "nbformat": 4,
 "nbformat_minor": 5
}

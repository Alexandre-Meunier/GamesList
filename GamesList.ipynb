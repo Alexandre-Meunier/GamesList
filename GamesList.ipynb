{
 "cells": [
  {
   "cell_type": "markdown",
   "id": "c3bdc978",
   "metadata": {},
   "source": [
    "<h1>Notes :\n",
    "\n",
    "Un programme qui permet de mettre tous ses jeux en une liste\n",
    "\n",
    "Programme qui ajoute un jeu a une liste :\n",
    "\n",
    "/ajout help\n",
    "{add, del, print} {C, D, E} {jeu.toString}\n",
    "\n",
    "/ajout C Rocket_league 28Go Epic_games\n",
    "\n",
    "une fois que le programme est fait,\n",
    "interface graphique IHM qui peut être utile pour tlm"
   ]
  },
  {
   "cell_type": "markdown",
   "source": [
    "<h2>import json, os"
   ],
   "metadata": {
    "collapsed": false
   },
   "id": "cbc5d33d8d44aa42"
  },
  {
   "cell_type": "code",
   "execution_count": 120,
   "outputs": [],
   "source": [
    "import json\n",
    "import os"
   ],
   "metadata": {
    "collapsed": false,
    "ExecuteTime": {
     "end_time": "2023-11-19T17:56:18.289693400Z",
     "start_time": "2023-11-19T17:56:18.258203300Z"
    }
   },
   "id": "da797eb7c81f7911"
  },
  {
   "cell_type": "markdown",
   "source": [
    "<h1>FONCTIONS BDD"
   ],
   "metadata": {
    "collapsed": false
   },
   "id": "792fb23250d728cd"
  },
  {
   "cell_type": "code",
   "execution_count": 121,
   "id": "647c6df6",
   "metadata": {
    "ExecuteTime": {
     "end_time": "2023-11-19T17:56:24.915217300Z",
     "start_time": "2023-11-19T17:56:24.889211200Z"
    }
   },
   "outputs": [
    {
     "name": "stdout",
     "output_type": "stream",
     "text": [
      "{'SSD main': {'Epic Games': [{'nom': 'RL', 'taille': 26.2, 'année': 2015}], 'Steam': [{'nom': 'Ratchet', 'taille': 39.3, 'année': 2023}, {'nom': 'Portal Source_Unpack', 'taille': 9.5, 'année': 2007}]}} <class 'dict'>\n"
     ]
    }
   ],
   "source": [
    "def loadBDD(path):\n",
    "    fichier = open(path,\"r\",encoding='utf-8')\n",
    "    BDD = json.load(fichier)\n",
    "    fichier.close()\n",
    "    return BDD\n",
    "\n",
    "path = \"./BDDTest.json\"\n",
    "BDD = loadBDD(path)\n",
    "print(BDD,type(BDD))"
   ]
  },
  {
   "cell_type": "code",
   "execution_count": 87,
   "outputs": [
    {
     "name": "stdout",
     "output_type": "stream",
     "text": [
      "Args vide\n",
      "Entrée : vide\n"
     ]
    },
    {
     "data": {
      "text/plain": "'Erreur : Merci de mettre un fichier json.'"
     },
     "execution_count": 87,
     "metadata": {},
     "output_type": "execute_result"
    }
   ],
   "source": [
    "'''\n",
    "modifie la BDD si c'est bien un json\n",
    "ex : ./BDDTest.json\n",
    "'''\n",
    "def editBDD(*args):\n",
    "    if args == ():\n",
    "        print('Args vide')\n",
    "        path = input(\"Indiquer le chemin d'accès (exemple : './BDDTest.json') :\")\n",
    "    else:\n",
    "        path=args\n",
    "    if path==\"\":\n",
    "        path=\"vide\"\n",
    "    print(\"Entrée :\",path)\n",
    "    if path[-5:]=='.json':\n",
    "        print('Le fichier est bien un json')\n",
    "        if os.path.exists(path):\n",
    "            print('Le fichier existe')\n",
    "            print('Chargement de la base de données')\n",
    "            loadBDD(path)\n",
    "            print('Fichier chargé avec succès')\n",
    "            print(BDD)\n",
    "    else:return \"Erreur : Merci de mettre un fichier json.\"\n",
    "\n",
    "#test :\n",
    "editBDD()"
   ],
   "metadata": {
    "collapsed": false,
    "ExecuteTime": {
     "end_time": "2023-11-19T16:47:32.193528500Z",
     "start_time": "2023-11-19T16:47:31.249583700Z"
    }
   },
   "id": "8ed79bbcf41eaf6"
  },
  {
   "cell_type": "markdown",
   "source": [
    "<h1>FONCTIONS PRINCIPALES"
   ],
   "metadata": {
    "collapsed": false
   },
   "id": "85870419d3639450"
  },
  {
   "cell_type": "code",
   "execution_count": 88,
   "id": "9d4e0720",
   "metadata": {
    "ExecuteTime": {
     "end_time": "2023-11-19T16:58:02.250992600Z",
     "start_time": "2023-11-19T16:58:02.223472100Z"
    }
   },
   "outputs": [],
   "source": [
    "def printGamesList(BDD):\n",
    "    res=''\n",
    "    #for cle in BDD:\n",
    "    #    res+=BDD[cle]\n",
    "    #    \n",
    "    #    for cle2 in Steam:\n",
    "    #        res+=BDD[cle2]\n",
    "    return BDD"
   ]
  },
  {
   "cell_type": "code",
   "execution_count": 17,
   "outputs": [],
   "source": [
    "'''\n",
    "ajoute un jeu à la BDD\n",
    "'''\n",
    "def addGame(item,BDD):\n",
    "    return ''"
   ],
   "metadata": {
    "collapsed": false,
    "ExecuteTime": {
     "end_time": "2023-11-19T15:14:46.168354400Z",
     "start_time": "2023-11-19T15:14:46.157889300Z"
    }
   },
   "id": "b03f2e01698e8385"
  },
  {
   "cell_type": "code",
   "execution_count": 18,
   "outputs": [],
   "source": [
    "'''\n",
    "supr un jeu à la BDD\n",
    "'''\n",
    "def delete(item,BDD):\n",
    "    return ''"
   ],
   "metadata": {
    "collapsed": false,
    "ExecuteTime": {
     "end_time": "2023-11-19T15:14:46.368291700Z",
     "start_time": "2023-11-19T15:14:46.352861800Z"
    }
   },
   "id": "1f8489e5ecef3475"
  },
  {
   "cell_type": "code",
   "execution_count": 19,
   "outputs": [],
   "source": [
    "'''\n",
    "modifie un jeu de la BDD\n",
    "'''\n",
    "def edit(item,BDD):\n",
    "    return ''"
   ],
   "metadata": {
    "collapsed": false,
    "ExecuteTime": {
     "end_time": "2023-11-19T15:14:46.515715Z",
     "start_time": "2023-11-19T15:14:46.486460Z"
    }
   },
   "id": "90d56615180b30fa"
  },
  {
   "cell_type": "markdown",
   "source": [
    "<h1>FONCTIONS D'INTERFACE"
   ],
   "metadata": {
    "collapsed": false
   },
   "id": "34db71b50e38a09d"
  },
  {
   "cell_type": "code",
   "execution_count": 118,
   "outputs": [
    {
     "name": "stdout",
     "output_type": "stream",
     "text": [
      "Commande : /add d\n",
      "['add', 'd']\n",
      "add\n",
      "argument 1 OK\n"
     ]
    },
    {
     "data": {
      "text/plain": "\"Erreur : arg2 non valide, doit être : ['C', 'D', 'E', 'F', 'G']\""
     },
     "execution_count": 118,
     "metadata": {},
     "output_type": "execute_result"
    }
   ],
   "source": [
    "'''\n",
    "interface\n",
    "ex : /add C Rocket_league Epic_games 28Go 2015\n",
    "\n",
    "Un launcher comme 'Epic_games' peut être écrit de plusieurs façons différentes :\n",
    "on le réecrit en 'epicgames' mais quand on demande c'est 'Epic Games'\n",
    "\n",
    "année facultatif\n",
    "peut-être une fonction qui le fait pour nous qu'on peut activer dans l'interface finale\n",
    "Une seule BDD par utilisateur\n",
    "'''\n",
    "def terminal():\n",
    "    arg1=['help','print','add','delete','edit']#Choses possibles\n",
    "    arg2=['C','D','E','F','G']#Disques possibles\n",
    "    #arg = launcher (default : Undefined)\n",
    "    #arg3 = jeu (default : game)\n",
    "    #arg4 = taille (default : 0) en Go\n",
    "    \n",
    "    cmd = input(\"/\")\n",
    "    if cmd==\"\":\n",
    "        cmd=\"vide\"\n",
    "        return \"Erreur : entrée vide\"\n",
    "    else:\n",
    "        print (\"Commande : \"+\"/\"+str(cmd))\n",
    "        cmds = cmd.split(' ')\n",
    "        print(cmds)\n",
    "        for i in range(len(cmds)):\n",
    "            print(cmds[i])\n",
    "            if cmds[0] in arg1:\n",
    "                print('argument 1 OK')\n",
    "                if cmds[1] in arg2:\n",
    "                    print('argument 2 OK')\n",
    "                else:return \"Erreur : arg2 non valide, doit être : \"+str(arg2)\n",
    "            else:return \"Erreur : arg1 non valide, doit être : \"+str(arg1)\n",
    "            \n",
    "terminal()\n",
    "#/add "
   ],
   "metadata": {
    "collapsed": false,
    "ExecuteTime": {
     "end_time": "2023-11-19T17:44:34.691245800Z",
     "start_time": "2023-11-19T17:44:31.464750Z"
    }
   },
   "id": "bbf1f629f59db20d"
  },
  {
   "cell_type": "markdown",
   "source": [
    "<h1>TESTS"
   ],
   "metadata": {
    "collapsed": false
   },
   "id": "49f88ec48f2d15cd"
  },
  {
   "cell_type": "code",
   "execution_count": 22,
   "id": "6b7daef3",
   "metadata": {
    "ExecuteTime": {
     "end_time": "2023-11-19T15:15:06.572694500Z",
     "start_time": "2023-11-19T15:15:06.544719200Z"
    }
   },
   "outputs": [
    {
     "name": "stdout",
     "output_type": "stream",
     "text": [
      "{'SSD main': {'Epic Games': [{'nom': 'RL', 'taille': 26.2, 'année': 2015}], 'Steam': [{'nom': 'Ratchet', 'taille': 39.3, 'année': 2023}, {'nom': 'Portal Source_Unpack', 'taille': 9.5, 'année': 2007}]}, 'SSD Sam': {'Battle.net': [{'nom': 'Modern Warfare', 'année': 2019, 'taille': 150}], 'EA': [{'nom': 'NFS : The Run', 'année': 2011, 'taille': 15.4}, {'nom': 'NFS : Payback', 'année': 2017, 'taille': 27.9}], 'Rockstar_Games': [{'nom': 'GTAV', 'année': 2013, 'taille': 109}], 'Steam': [{'nom': 'MWII', 'année': 2022, 'taille': 117}, {'nom': 'MW3', 'année': 2009, 'taille': 14.3}]}, 'HDD Seagate': {'Battle.net': [{'nom': 'Watch_Dogs', 'année': 2014, 'taille': 13.9}], 'Games': [{'nom': 'MW2', 'année': 2009, 'taille': 11}, {'nom': 'BOII', 'année': 2020, 'taille': 13.6}, {'nom': 'Stray', 'année': 2022, 'taille': 6.5}], 'Ubisoft Connect': [{'nom': 'Watch_Dogs', 'année': 2014, 'taille': 13.9}]}}\n"
     ]
    }
   ],
   "source": [
    "print(BDD)\n",
    "#print(BDD['SSD']['Steam'])\n",
    "print(printGamesList(BDD))"
   ]
  },
  {
   "cell_type": "code",
   "execution_count": null,
   "outputs": [],
   "source": [],
   "metadata": {
    "collapsed": false
   },
   "id": "9578ef65e7e9277"
  }
 ],
 "metadata": {
  "kernelspec": {
   "display_name": "Python 3 (ipykernel)",
   "language": "python",
   "name": "python3"
  },
  "language_info": {
   "codemirror_mode": {
    "name": "ipython",
    "version": 3
   },
   "file_extension": ".py",
   "mimetype": "text/x-python",
   "name": "python",
   "nbconvert_exporter": "python",
   "pygments_lexer": "ipython3",
   "version": "3.11.3"
  }
 },
 "nbformat": 4,
 "nbformat_minor": 5
}

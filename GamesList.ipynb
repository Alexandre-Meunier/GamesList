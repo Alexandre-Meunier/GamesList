{
 "cells": [
  {
   "cell_type": "markdown",
   "id": "c3bdc978",
   "metadata": {},
   "source": [
    "<h1>\n",
    "Readme.md<br>\n",
    "Notes :<h1>\n",
    "Un programme qui permet de mettre tous ses jeux en une liste\n",
    "\n",
    "Programme qui ajoute un jeu a une liste :\n",
    "\n",
    "    /ajout help\n",
    "    {add, del, print} {C, D, E} {jeu.toString}\n",
    "\n",
    "    /ajout C Rocket_league 28Go Epic_games\n",
    "\n",
    "Une fois que le programme principal est fait,\n",
    "on pourra faire interface graphique IHM qui peut être utile pour tlm:\n",
    "\n",
    "<h1> Description de la base de données :</h1>\n",
    "Une base de données a :<br>\n",
    "Des disques qui ont<br>\n",
    "des launchers qui ont<br>\n",
    "des jeux qui ont<br>\n",
    "un nom, une taille, et une année de sortie.\n",
    "</p><br>\n"
   ]
  },
  {
   "cell_type": "markdown",
   "source": [
    "<hr>\n",
    "<br>\n",
    "<h2>import json, os"
   ],
   "metadata": {
    "collapsed": false
   },
   "id": "cbc5d33d8d44aa42"
  },
  {
   "cell_type": "code",
   "execution_count": null,
   "outputs": [],
   "source": [
    "import json\n",
    "import os"
   ],
   "metadata": {
    "collapsed": false
   },
   "id": "da797eb7c81f7911"
  },
  {
   "cell_type": "markdown",
   "source": [
    "<h1>FONCTIONS BDD"
   ],
   "metadata": {
    "collapsed": false
   },
   "id": "792fb23250d728cd"
  },
  {
   "cell_type": "code",
   "execution_count": null,
   "id": "647c6df6",
   "metadata": {},
   "outputs": [],
   "source": [
    "def loadBDD(path):\n",
    "    fichier = open(path,\"r\",encoding='utf-8')\n",
    "    BDD = json.load(fichier)\n",
    "    fichier.close()\n",
    "    return BDD\n",
    "\n",
    "path = \"./BDDTest.json\"\n",
    "BDD = loadBDD(path)\n",
    "print(BDD,type(BDD))"
   ]
  },
  {
   "cell_type": "code",
   "execution_count": null,
   "outputs": [],
   "source": [
    "'''\n",
    "modifie la BDD si c'est bien un json\n",
    "ex : ./BDDTest.json\n",
    "'''\n",
    "def editBDD(*args):\n",
    "    if args == ():\n",
    "        print('Args vide')\n",
    "        path = input(\"Indiquer le chemin d'accès (exemple : './BDDTest.json') :\")\n",
    "    else:\n",
    "        path=args\n",
    "    if path==\"\":\n",
    "        path=\"vide\"\n",
    "    print(\"Entrée :\",path)\n",
    "    if path[-5:]=='.json':\n",
    "        print('Le fichier est bien un json')\n",
    "        if os.path.exists(path):\n",
    "            print('Le fichier existe')\n",
    "            print('Chargement de la base de données')\n",
    "            loadBDD(path)\n",
    "            print('Fichier chargé avec succès')\n",
    "            print(BDD)\n",
    "    else:return \"Erreur : Merci de mettre un fichier json.\"\n",
    "\n",
    "#test :\n",
    "#editBDD()"
   ],
   "metadata": {
    "collapsed": false
   },
   "id": "8ed79bbcf41eaf6"
  },
  {
   "cell_type": "markdown",
   "source": [
    "<h3>GETTERS<h3>"
   ],
   "metadata": {
    "collapsed": false
   },
   "id": "997010667bcc8d4a"
  },
  {
   "cell_type": "code",
   "execution_count": 120,
   "outputs": [
    {
     "name": "stdout",
     "output_type": "stream",
     "text": [
      "['SSD main', 'SSD Sam']\n"
     ]
    }
   ],
   "source": [
    "'''\n",
    "Retourne les disques de la BDD\n",
    "'''\n",
    "def getDisques():\n",
    "    return list(BDD.keys())\n",
    "print((getDisques()))"
   ],
   "metadata": {
    "collapsed": false,
    "ExecuteTime": {
     "end_time": "2023-11-28T20:08:29.612219300Z",
     "start_time": "2023-11-28T20:08:29.591668500Z"
    }
   },
   "id": "5ee8c780e46fc1b1"
  },
  {
   "cell_type": "code",
   "execution_count": 155,
   "outputs": [
    {
     "name": "stdout",
     "output_type": "stream",
     "text": [
      "{'SSD main': ['Epic Games', 'Steam'], 'SSD Sam': ['Battle.net', 'EA']}\n"
     ]
    }
   ],
   "source": [
    "'''\n",
    "Retourne les launchers\n",
    "'''\n",
    "def getLaunchers():\n",
    "    r={}\n",
    "    for cle in getDisques():\n",
    "        r[cle]=list(BDD[cle].keys())\n",
    "    return r\n",
    "\n",
    "print(getLaunchers())\n",
    "\n",
    "\n",
    "#{'SSD main': ['Epic Games', 'Steam'], 'SSD Sam': ['Battle.net', 'EA']}"
   ],
   "metadata": {
    "collapsed": false,
    "ExecuteTime": {
     "end_time": "2023-11-28T20:20:13.840204200Z",
     "start_time": "2023-11-28T20:20:13.839696300Z"
    }
   },
   "id": "c2f77c8d745c792b"
  },
  {
   "cell_type": "code",
   "execution_count": 118,
   "outputs": [
    {
     "name": "stdout",
     "output_type": "stream",
     "text": [
      "{}\n"
     ]
    }
   ],
   "source": [
    "'''\n",
    "Retourne les jeux de la BDD\n",
    "'''\n",
    "def getGames():\n",
    "    r={}\n",
    "    \n",
    "    return r\n",
    "print(getGames())"
   ],
   "metadata": {
    "collapsed": false,
    "ExecuteTime": {
     "end_time": "2023-11-28T20:08:03.701655300Z",
     "start_time": "2023-11-28T20:08:03.684929300Z"
    }
   },
   "id": "bebbd7b2cadfdddc"
  },
  {
   "cell_type": "markdown",
   "source": [
    "<hr>\n",
    "<h1>FONCTIONS PRINCIPALES"
   ],
   "metadata": {
    "collapsed": false
   },
   "id": "6b6f548b50a74c8f"
  },
  {
   "cell_type": "code",
   "execution_count": null,
   "id": "9d4e0720",
   "metadata": {},
   "outputs": [],
   "source": [
    "def printGamesList(BDD):\n",
    "    res=''\n",
    "    #for cle in BDD:\n",
    "    #    res+=BDD[cle]\n",
    "    #    \n",
    "    #    for cle2 in Steam:\n",
    "    #        res+=BDD[cle2]\n",
    "    return BDD"
   ]
  },
  {
   "cell_type": "code",
   "execution_count": null,
   "outputs": [],
   "source": [
    "'''\n",
    "ajoute un jeu à la BDD\n",
    "'''\n",
    "def addGame(item,BDD):\n",
    "    return ''"
   ],
   "metadata": {
    "collapsed": false
   },
   "id": "b03f2e01698e8385"
  },
  {
   "cell_type": "code",
   "execution_count": null,
   "outputs": [],
   "source": [
    "'''\n",
    "supr un jeu à la BDD\n",
    "'''\n",
    "def delete(item,BDD):\n",
    "    return ''"
   ],
   "metadata": {
    "collapsed": false
   },
   "id": "1f8489e5ecef3475"
  },
  {
   "cell_type": "code",
   "execution_count": null,
   "outputs": [],
   "source": [
    "'''\n",
    "modifie un jeu de la BDD\n",
    "'''\n",
    "def edit(item,BDD):\n",
    "    return ''"
   ],
   "metadata": {
    "collapsed": false
   },
   "id": "90d56615180b30fa"
  },
  {
   "cell_type": "markdown",
   "source": [
    "<h1>FONCTIONS D'INTERFACE"
   ],
   "metadata": {
    "collapsed": false
   },
   "id": "34db71b50e38a09d"
  },
  {
   "cell_type": "code",
   "execution_count": null,
   "outputs": [],
   "source": [
    "'''\n",
    "interface\n",
    "ex : /add C Rocket_league Epic_games 28Go 2015\n",
    "\n",
    "Un launcher comme 'Epic_games' peut être écrit de plusieurs façons différentes :\n",
    "on le réecrit en 'epicgames' mais quand on demande c'est 'Epic Games'\n",
    "\n",
    "année facultatif\n",
    "peut-être une fonction qui le fait pour nous qu'on peut activer dans l'interface finale\n",
    "Une seule BDD par utilisateur\n",
    "'''\n",
    "def terminal():\n",
    "    arg1=['help','print','add','delete','edit']#Choses possibles\n",
    "    arg2=['C','D','E','F','G']#Disques possibles\n",
    "    #arg = launcher (default : Undefined)\n",
    "    #arg3 = jeu (default : game)\n",
    "    #arg4 = taille (default : 0) en Go\n",
    "    \n",
    "    cmd = input(\"/\")\n",
    "    if cmd==\"\":\n",
    "        cmd=\"vide\"\n",
    "        return \"Erreur : entrée vide\"\n",
    "    else:\n",
    "        print (\"Commande : \"+\"/\"+str(cmd))\n",
    "        cmds = cmd.split(' ')\n",
    "        print(cmds)\n",
    "        for i in range(len(cmds)):\n",
    "            print(cmds[i])\n",
    "            if cmds[0] in arg1:\n",
    "                print('argument 1 OK')\n",
    "                if cmds[1] in arg2:\n",
    "                    print('argument 2 OK')\n",
    "                else:return \"Erreur : arg2 non valide, doit être : \"+str(arg2)\n",
    "            else:return \"Erreur : arg1 non valide, doit être : \"+str(arg1)\n",
    "            \n",
    "terminal()\n",
    "#/add "
   ],
   "metadata": {
    "collapsed": false
   },
   "id": "bbf1f629f59db20d"
  },
  {
   "cell_type": "markdown",
   "source": [
    "<h1>TESTS"
   ],
   "metadata": {
    "collapsed": false
   },
   "id": "49f88ec48f2d15cd"
  },
  {
   "cell_type": "code",
   "execution_count": null,
   "id": "6b7daef3",
   "metadata": {},
   "outputs": [],
   "source": [
    "print(BDD)\n",
    "#print(BDD['SSD']['Steam'])\n",
    "print(printGamesList(BDD))"
   ]
  },
  {
   "cell_type": "code",
   "execution_count": null,
   "outputs": [],
   "source": [],
   "metadata": {
    "collapsed": false
   },
   "id": "9578ef65e7e9277"
  }
 ],
 "metadata": {
  "kernelspec": {
   "display_name": "Python 3 (ipykernel)",
   "language": "python",
   "name": "python3"
  },
  "language_info": {
   "codemirror_mode": {
    "name": "ipython",
    "version": 3
   },
   "file_extension": ".py",
   "mimetype": "text/x-python",
   "name": "python",
   "nbconvert_exporter": "python",
   "pygments_lexer": "ipython3",
   "version": "3.11.3"
  }
 },
 "nbformat": 4,
 "nbformat_minor": 5
}

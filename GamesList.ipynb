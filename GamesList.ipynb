{
 "cells": [
  {
   "cell_type": "markdown",
   "id": "c3bdc978",
   "metadata": {},
   "source": [
    "Notes :\n",
    "\n",
    "Un programme qui permet de mettre tous ses jeux en une liste\n",
    "\n",
    "Programme qui ajoute un jeu a une liste :\n",
    "\n",
    "/ajout help\n",
    "{add, del, print} {C, D, E} {jeu.toString}\n",
    "\n",
    "/ajout C Rocket_league 28Go Epic_games\n",
    "\n",
    "une fois que le programme est fait,\n",
    "interface graphique IHM qui peut être utile pour tlm\n"
   ]
  },
  {
   "cell_type": "code",
   "execution_count": 27,
   "id": "647c6df6",
   "metadata": {
    "ExecuteTime": {
     "end_time": "2023-11-19T15:29:18.276508300Z",
     "start_time": "2023-11-19T15:29:18.243920300Z"
    }
   },
   "outputs": [
    {
     "name": "stdout",
     "output_type": "stream",
     "text": [
      "{'SSD main': {'Epic Games': [{'nom': 'RL', 'taille': 26.2, 'année': 2015}], 'Steam': [{'nom': 'Ratchet', 'taille': 39.3, 'année': 2023}, {'nom': 'Portal Source_Unpack', 'taille': 9.5, 'année': 2007}]}}\n"
     ]
    }
   ],
   "source": [
    "import json\n",
    "fichier = open(\"./BDDTest.json\",\"r\",encoding='utf-8')\n",
    "BDD = json.load(fichier)\n",
    "fichier.close()\n",
    "print(BDD)"
   ]
  },
  {
   "cell_type": "code",
   "execution_count": null,
   "outputs": [],
   "source": [
    "'''\n",
    "modifie la BDD si c'est bien un json\n",
    "'''\n",
    "    def editBDD(BDD):\n",
    "        return ''"
   ],
   "metadata": {
    "collapsed": false
   },
   "id": "8ed79bbcf41eaf6"
  },
  {
   "cell_type": "code",
   "execution_count": 16,
   "id": "9d4e0720",
   "metadata": {
    "ExecuteTime": {
     "end_time": "2023-11-19T15:14:45.884933600Z",
     "start_time": "2023-11-19T15:14:45.867301800Z"
    }
   },
   "outputs": [],
   "source": [
    "def printGamesList(BDD):\n",
    "    res=''\n",
    "    #for cle in BDD:\n",
    "    #    res+=BDD[cle]\n",
    "    #    \n",
    "    #    for cle2 in Steam:\n",
    "    #        res+=BDD[cle2]\n",
    "    return res"
   ]
  },
  {
   "cell_type": "code",
   "execution_count": 17,
   "outputs": [],
   "source": [
    "'''\n",
    "ajoute un jeu à la BDD\n",
    "'''\n",
    "def addGame(item,BDD):\n",
    "    return ''"
   ],
   "metadata": {
    "collapsed": false,
    "ExecuteTime": {
     "end_time": "2023-11-19T15:14:46.168354400Z",
     "start_time": "2023-11-19T15:14:46.157889300Z"
    }
   },
   "id": "b03f2e01698e8385"
  },
  {
   "cell_type": "code",
   "execution_count": 18,
   "outputs": [],
   "source": [
    "'''\n",
    "supr un jeu à la BDD\n",
    "'''\n",
    "def delete(item,BDD):\n",
    "    return ''"
   ],
   "metadata": {
    "collapsed": false,
    "ExecuteTime": {
     "end_time": "2023-11-19T15:14:46.368291700Z",
     "start_time": "2023-11-19T15:14:46.352861800Z"
    }
   },
   "id": "1f8489e5ecef3475"
  },
  {
   "cell_type": "code",
   "execution_count": 19,
   "outputs": [],
   "source": [
    "'''\n",
    "modifie un jeu de la BDD\n",
    "'''\n",
    "def edit(item,BDD):\n",
    "    return ''"
   ],
   "metadata": {
    "collapsed": false,
    "ExecuteTime": {
     "end_time": "2023-11-19T15:14:46.515715Z",
     "start_time": "2023-11-19T15:14:46.486460Z"
    }
   },
   "id": "90d56615180b30fa"
  },
  {
   "cell_type": "code",
   "execution_count": 26,
   "outputs": [
    {
     "data": {
      "text/plain": "'a'"
     },
     "execution_count": 26,
     "metadata": {},
     "output_type": "execute_result"
    }
   ],
   "source": [
    "'''\n",
    "interface\n",
    "ex : /ajout C Rocket_league 28Go Epic_games\n",
    "Une seule BDD par utilisateur\n",
    "'''\n",
    "def terminal(BDD):\n",
    "    cmd = input(\"/\")\n",
    "    \n",
    "    return cmd\n",
    "terminal(BDD)\n",
    "#/add "
   ],
   "metadata": {
    "collapsed": false,
    "ExecuteTime": {
     "end_time": "2023-11-19T15:27:02.315487100Z",
     "start_time": "2023-11-19T15:26:58.438674800Z"
    }
   },
   "id": "bbf1f629f59db20d"
  },
  {
   "cell_type": "code",
   "execution_count": 22,
   "id": "6b7daef3",
   "metadata": {
    "ExecuteTime": {
     "end_time": "2023-11-19T15:15:06.572694500Z",
     "start_time": "2023-11-19T15:15:06.544719200Z"
    }
   },
   "outputs": [
    {
     "name": "stdout",
     "output_type": "stream",
     "text": [
      "{'SSD main': {'Epic Games': [{'nom': 'RL', 'taille': 26.2, 'année': 2015}], 'Steam': [{'nom': 'Ratchet', 'taille': 39.3, 'année': 2023}, {'nom': 'Portal Source_Unpack', 'taille': 9.5, 'année': 2007}]}, 'SSD Sam': {'Battle.net': [{'nom': 'Modern Warfare', 'année': 2019, 'taille': 150}], 'EA': [{'nom': 'NFS : The Run', 'année': 2011, 'taille': 15.4}, {'nom': 'NFS : Payback', 'année': 2017, 'taille': 27.9}], 'Rockstar_Games': [{'nom': 'GTAV', 'année': 2013, 'taille': 109}], 'Steam': [{'nom': 'MWII', 'année': 2022, 'taille': 117}, {'nom': 'MW3', 'année': 2009, 'taille': 14.3}]}, 'HDD Seagate': {'Battle.net': [{'nom': 'Watch_Dogs', 'année': 2014, 'taille': 13.9}], 'Games': [{'nom': 'MW2', 'année': 2009, 'taille': 11}, {'nom': 'BOII', 'année': 2020, 'taille': 13.6}, {'nom': 'Stray', 'année': 2022, 'taille': 6.5}], 'Ubisoft Connect': [{'nom': 'Watch_Dogs', 'année': 2014, 'taille': 13.9}]}}\n"
     ]
    }
   ],
   "source": [
    "print(BDD)\n",
    "#print(BDD['SSD']['Steam'])\n",
    "print(printGamesList(BDD))"
   ]
  },
  {
   "cell_type": "code",
   "execution_count": null,
   "outputs": [],
   "source": [],
   "metadata": {
    "collapsed": false
   },
   "id": "9578ef65e7e9277"
  }
 ],
 "metadata": {
  "kernelspec": {
   "display_name": "Python 3 (ipykernel)",
   "language": "python",
   "name": "python3"
  },
  "language_info": {
   "codemirror_mode": {
    "name": "ipython",
    "version": 3
   },
   "file_extension": ".py",
   "mimetype": "text/x-python",
   "name": "python",
   "nbconvert_exporter": "python",
   "pygments_lexer": "ipython3",
   "version": "3.11.3"
  }
 },
 "nbformat": 4,
 "nbformat_minor": 5
}

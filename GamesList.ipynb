{
 "cells": [
  {
   "cell_type": "markdown",
   "id": "c3bdc978",
   "metadata": {},
   "source": [
    "<h1>\n",
    "Readme.md<br>\n",
    "Notes :</h1>\n",
    "<h3>Un programme qui permet de mettre tous ses jeux en une liste</h3>\n",
    "\n",
    "Programme qui ajoute un jeu a une liste :\n",
    "\n",
    "    /ajout help\n",
    "    {add, del, print} {C, D, E} {jeu.toString}\n",
    "\n",
    "    /ajout C Rocket_league 28Go Epic_games\n",
    "\n",
    "<br>\n",
    "<h3> Description de la base de données :</h3>\n",
    "Une base de données a :<br>\n",
    "Des disques qui ont<br>\n",
    "des launchers qui ont<br></h7>\n",
    "des jeux qui ont<br>\n",
    "un nom, une taille, et une année de sortie.\n",
    "<br><br>\n",
    "<h3> Fonctions :</h3>\n",
    "loadBDD(path)<br>\n",
    "editBDD(*args)<br>\n",
    "getDisques()<br>\n",
    "getLaunchers()<br>\n",
    "getGames()<br>\n",
    "printGamesList() (toString)<br>\n",
    "addGame()<br>\n",
    "addLauncher()<br>\n",
    "terminal()<br>\n",
    "\n",
    "On pourra utiliser aussi un terminal\n",
    "Voir si on peut prendre le nom d'une fenêtre en cours\n",
    "Onglet paramètres : thème, compteur d'utilisation\n",
    "<br>\n",
    "Une fois que le programme principal est fait,\n",
    "on pourra faire interface graphique IHM qui peut être utile pour tlm\n",
    "</p><br>\n",
    "\n",
    "En-tête :\n",
    "Fichier(ouvrir, sauvegarder, ouvrir l'emplacement, quitter)\n",
    "Edit(copy, paste, find) (deplacerjeu)\n",
    "Vue (liste, tri, thèmes, langue)\n",
    "Commande (terminal, autre (github))\n",
    "\n",
    "Charger la bdd si aucune chargée depuis sauvegarde\n",
    "<p>\n",
    "Sauvegarde dans un fichier\n",
    "pour savoir où est la dernière bdd chargée\n",
    "si c'est vide c'est que aucune bdd n'a été chargée\n",
    "Écrire la bdd chargée en haut à droite dans la même ligne que fichier\n",
    "ecrire le nbre de jeux dans la bdd\n",
    "la fonction actualiser actualisera le nbre de jeux\n",
    "Liste\n",
    "embed par disques (couleur rouge, vert, bleu etc)\n",
    "et en bas une légende\n",
    "logo launcher | jeu | taille | année de sortie\n",
    "Fonction verifLauncher\n",
    "qui prend en paramètre un launcher qui le remet en bien écrit\n",
    "fonction appelée quand on modifie un launcher d'un jeu\n",
    "fonction pour modifier le launcher d'un jeu\n",
    "fonction deplacer(jeu) de disque\n",
    "fonction ajouter un jeu ouvre une petite fenêtre pour ajouter un jeu<br>\n",
    "Exemple d'interface :<br>\n",
    "[] : Bordure épaisse colorée<br>\n",
    "------------------------------------------------<br>\n",
    "Fichier | Editer | Vue |                  BDD.json | 8 jeux<br>\n",
    "------------------------------------------------<br>\n",
    "<br>\n",
    "SSD main (C:) [] :eg: | Rocket_League | 24 Go | 2015<br>\n",
    "                         []<br>\n",
    "                         []<br>\n",
    "                         []<br>\n",
    "                             [ Ajouter un jeu ]<br>\n",
    "------------------------------------------------<br>\n",
    "[] SSD main (C:)  |  [] SSD sam (:D)Fichier(ouvrir, sauvegarder, ouvrir l'emplacement, quitter)<br>\n",
    "Edit(copy, paste, find) (deplacerjeu)<br>\n",
    "Vue (liste, tri, thèmes, langue)<br>\n",
    "<br>\n",
    "Charger la bdd si aucune chargée depuis sauvegarde<br>\n",
    "loadBDD<br>\n",
    "la bdd par défaut se nomme BDD.json<br>\n",
    "<br>\n",
    "Sauvegarde dans un fichier<br>\n",
    "pour savoir où est la dernière bdd chargée<br>\n",
    "si c'est vide c'est que aucune bdd n'a été chargée<br>\n",
    "Écrire la bdd chargée en haut à droite dans la même ligne que fichier<br>\n",
    "ecrire le nbre de jeux dans la bdd<br>\n",
    "la fonction actualiser actualisera le nbre de jeux<br>\n",
    "Liste<br>\n",
    "embed par disques (couleur rouge, vert, bleu etc)<br>\n",
    "et en bas une légende<br>\n",
    "logo launcher | jeu | taille | année de sortie<br>\n",
    "<br>\n",
    "Fonction verifLauncher<br>\n",
    "qui prend en paramètre un launcher qui le remet en bien écrit<br>\n",
    "fonction appelée quand on modifie un launcher d'un jeu<br>\n",
    "fonction pour modifier le launcher d'un jeu<br>\n",
    "fonction deplacer(jeu) de disque<br>\n",
    "<br>\n",
    "Exemple d'interface :<br>\n",
    "[] : Bordure épaisse colorée<br>\n",
    "------------------------------------------------<br>\n",
    "Fichier | Editer | Vue |                  BDD.json | 8 jeux<br>\n",
    "------------------------------------------------<br>\n",
    "<br>\n",
    "SSD main (C:) [] :eg: | Rocket_League | 24 Go | 2015<br>\n",
    "                         []<br>\n",
    "                         []<br>\n",
    "                         []<br>\n",
    "------------------------------------------------<br>\n",
    "[] SSD main (C:)  |  [] SSD sam (:D)<br>"
   ]
  },
  {
   "cell_type": "markdown",
   "source": [
    "<hr>\n",
    "<br>\n",
    "<h2>import json, os"
   ],
   "metadata": {
    "collapsed": false
   },
   "id": "cbc5d33d8d44aa42"
  },
  {
   "cell_type": "code",
   "execution_count": 1,
   "outputs": [],
   "source": [
    "import json\n",
    "import os"
   ],
   "metadata": {
    "collapsed": false,
    "ExecuteTime": {
     "end_time": "2023-11-29T20:17:46.500244400Z",
     "start_time": "2023-11-29T20:17:46.486187600Z"
    }
   },
   "id": "da797eb7c81f7911"
  },
  {
   "cell_type": "markdown",
   "source": [
    "<h1>FONCTIONS BDD"
   ],
   "metadata": {
    "collapsed": false
   },
   "id": "792fb23250d728cd"
  },
  {
   "cell_type": "code",
   "execution_count": null,
   "id": "647c6df6",
   "metadata": {},
   "outputs": [],
   "source": [
    "def loadBDD(path):\n",
    "    fichier = open(path,\"r\",encoding='utf-8')\n",
    "    BDD = json.load(fichier)\n",
    "    fichier.close()\n",
    "    return BDD\n",
    "\n",
    "path = \"./BDDTest.json\"\n",
    "BDD = loadBDD(path)\n",
    "print(BDD,type(BDD))"
   ]
  },
  {
   "cell_type": "code",
   "execution_count": null,
   "outputs": [],
   "source": [
    "'''\n",
    "modifie la BDD si c'est bien un json\n",
    "ex : ./BDDTest.json\n",
    "'''\n",
    "def editBDD(*args):\n",
    "    if args == ():\n",
    "        print('Args vide')\n",
    "        path = input(\"Indiquer le chemin d'accès (exemple : './BDDTest.json') :\")\n",
    "    else:\n",
    "        path=args\n",
    "    if path==\"\":\n",
    "        path=\"vide\"\n",
    "    print(\"Entrée :\",path)\n",
    "    if path[-5:]=='.json':\n",
    "        print('Le fichier est bien un json')\n",
    "        if os.path.exists(path):\n",
    "            print('Le fichier existe')\n",
    "            print('Chargement de la base de données')\n",
    "            loadBDD(path)\n",
    "            print('Fichier chargé avec succès')\n",
    "            print(BDD)\n",
    "    else:return \"Erreur : Merci de mettre un fichier json.\"\n",
    "\n",
    "#test :\n",
    "#editBDD()"
   ],
   "metadata": {
    "collapsed": false
   },
   "id": "8ed79bbcf41eaf6"
  },
  {
   "cell_type": "markdown",
   "source": [
    "<h3>GETTERS<h3>"
   ],
   "metadata": {
    "collapsed": false
   },
   "id": "997010667bcc8d4a"
  },
  {
   "cell_type": "code",
   "execution_count": 120,
   "outputs": [
    {
     "name": "stdout",
     "output_type": "stream",
     "text": [
      "['SSD main', 'SSD Sam']\n"
     ]
    }
   ],
   "source": [
    "'''\n",
    "Retourne les disques de la BDD\n",
    "'''\n",
    "def getDisques():\n",
    "    return list(BDD.keys())\n",
    "print((getDisques()))"
   ],
   "metadata": {
    "collapsed": false,
    "ExecuteTime": {
     "end_time": "2023-11-28T20:08:29.612219300Z",
     "start_time": "2023-11-28T20:08:29.591668500Z"
    }
   },
   "id": "5ee8c780e46fc1b1"
  },
  {
   "cell_type": "code",
   "execution_count": 163,
   "outputs": [
    {
     "name": "stdout",
     "output_type": "stream",
     "text": [
      "{'SSD main': ['Epic Games', 'Steam'], 'SSD Sam': ['Battle.net', 'EA']}\n"
     ]
    }
   ],
   "source": [
    "'''\n",
    "Retourne les launchers\n",
    "'''\n",
    "def getLaunchers():\n",
    "    r={}\n",
    "    for cle in getDisques():\n",
    "        r[cle]=list(BDD[cle].keys())\n",
    "    return r\n",
    "\n",
    "print(getLaunchers())\n",
    "#{'SSD main': ['Epic Games', 'Steam'], 'SSD Sam': ['Battle.net', 'EA']}"
   ],
   "metadata": {
    "collapsed": false,
    "ExecuteTime": {
     "end_time": "2023-11-28T20:27:27.568049900Z",
     "start_time": "2023-11-28T20:27:27.552441600Z"
    }
   },
   "id": "c2f77c8d745c792b"
  },
  {
   "cell_type": "code",
   "execution_count": 164,
   "outputs": [
    {
     "name": "stdout",
     "output_type": "stream",
     "text": [
      "['Epic Games', 'Steam', 'Battle.net', 'EA']\n"
     ]
    }
   ],
   "source": [
    "'''\n",
    "Retourne les jeux de la BDD\n",
    "'''\n",
    "def getGames():\n",
    "    r=[]\n",
    "    for c in getDisques():\n",
    "        r += BDD[c].keys()\n",
    "    return r\n",
    "print(getGames())"
   ],
   "metadata": {
    "collapsed": false,
    "ExecuteTime": {
     "end_time": "2023-11-28T20:27:32.020439900Z",
     "start_time": "2023-11-28T20:27:31.994819800Z"
    }
   },
   "id": "bebbd7b2cadfdddc"
  },
  {
   "cell_type": "markdown",
   "source": [
    "<hr>\n",
    "<h1>FONCTIONS PRINCIPALES"
   ],
   "metadata": {
    "collapsed": false
   },
   "id": "6b6f548b50a74c8f"
  },
  {
   "cell_type": "code",
   "execution_count": null,
   "id": "9d4e0720",
   "metadata": {},
   "outputs": [],
   "source": [
    "def printGamesList(BDD):\n",
    "    res=''\n",
    "    #for cle in BDD:\n",
    "    #    res+=BDD[cle]\n",
    "    #    \n",
    "    #    for cle2 in Steam:\n",
    "    #        res+=BDD[cle2]\n",
    "    return BDD"
   ]
  },
  {
   "cell_type": "code",
   "execution_count": null,
   "outputs": [],
   "source": [
    "'''\n",
    "ajoute un jeu à la BDD\n",
    "'''\n",
    "def addGame(item,BDD):\n",
    "    return ''"
   ],
   "metadata": {
    "collapsed": false
   },
   "id": "b03f2e01698e8385"
  },
  {
   "cell_type": "code",
   "execution_count": null,
   "outputs": [],
   "source": [
    "'''\n",
    "supr un jeu à la BDD\n",
    "'''\n",
    "def delete(item,BDD):\n",
    "    return ''"
   ],
   "metadata": {
    "collapsed": false
   },
   "id": "1f8489e5ecef3475"
  },
  {
   "cell_type": "code",
   "execution_count": null,
   "outputs": [],
   "source": [
    "'''\n",
    "modifie un jeu de la BDD\n",
    "'''\n",
    "def edit(item,BDD):\n",
    "    return ''"
   ],
   "metadata": {
    "collapsed": false
   },
   "id": "90d56615180b30fa"
  },
  {
   "cell_type": "markdown",
   "source": [
    "<h1>FONCTIONS D'INTERFACE"
   ],
   "metadata": {
    "collapsed": false
   },
   "id": "34db71b50e38a09d"
  },
  {
   "cell_type": "code",
   "execution_count": null,
   "outputs": [],
   "source": [
    "'''\n",
    "interface\n",
    "ex : /add C Rocket_league Epic_games 28Go 2015\n",
    "\n",
    "Un launcher comme 'Epic_games' peut être écrit de plusieurs façons différentes :\n",
    "on le réecrit en 'epicgames' mais quand on demande c'est 'Epic Games'\n",
    "\n",
    "année facultatif\n",
    "peut-être une fonction qui le fait pour nous qu'on peut activer dans l'interface finale\n",
    "Une seule BDD par utilisateur\n",
    "'''\n",
    "def terminal():\n",
    "    arg1=['help','print','add','delete','edit']#Choses possibles\n",
    "    arg2=['C','D','E','F','G']#Disques possibles\n",
    "    #arg = launcher (default : Undefined)\n",
    "    #arg3 = jeu (default : game)\n",
    "    #arg4 = taille (default : 0) en Go\n",
    "    \n",
    "    cmd = input(\"/\")\n",
    "    if cmd==\"\":\n",
    "        cmd=\"vide\"\n",
    "        return \"Erreur : entrée vide\"\n",
    "    else:\n",
    "        print (\"Commande : \"+\"/\"+str(cmd))\n",
    "        cmds = cmd.split(' ')\n",
    "        print(cmds)\n",
    "        for i in range(len(cmds)):\n",
    "            print(cmds[i])\n",
    "            if cmds[0] in arg1:\n",
    "                print('argument 1 OK')\n",
    "                if cmds[1] in arg2:\n",
    "                    print('argument 2 OK')\n",
    "                else:return \"Erreur : arg2 non valide, doit être : \"+str(arg2)\n",
    "            else:return \"Erreur : arg1 non valide, doit être : \"+str(arg1)\n",
    "            \n",
    "terminal()\n",
    "#/add "
   ],
   "metadata": {
    "collapsed": false
   },
   "id": "bbf1f629f59db20d"
  },
  {
   "cell_type": "markdown",
   "source": [
    "<h1>TESTS"
   ],
   "metadata": {
    "collapsed": false
   },
   "id": "49f88ec48f2d15cd"
  },
  {
   "cell_type": "code",
   "execution_count": null,
   "id": "6b7daef3",
   "metadata": {},
   "outputs": [],
   "source": [
    "print(BDD)\n",
    "#print(BDD['SSD']['Steam'])\n",
    "print(printGamesList(BDD))"
   ]
  },
  {
   "cell_type": "code",
   "execution_count": null,
   "outputs": [],
   "source": [],
   "metadata": {
    "collapsed": false
   },
   "id": "9578ef65e7e9277"
  }
 ],
 "metadata": {
  "kernelspec": {
   "display_name": "Python 3 (ipykernel)",
   "language": "python",
   "name": "python3"
  },
  "language_info": {
   "codemirror_mode": {
    "name": "ipython",
    "version": 3
   },
   "file_extension": ".py",
   "mimetype": "text/x-python",
   "name": "python",
   "nbconvert_exporter": "python",
   "pygments_lexer": "ipython3",
   "version": "3.11.3"
  }
 },
 "nbformat": 4,
 "nbformat_minor": 5
}
